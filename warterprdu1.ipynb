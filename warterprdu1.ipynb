{
  "cells": [
    {
      "cell_type": "code",
      "execution_count": null,
      "metadata": {
        "id": "yuWkxj7cs4XD"
      },
      "outputs": [],
      "source": []
    },
    {
      "cell_type": "markdown",
      "metadata": {
        "id": "4mQuuHh7dwCd"
      },
      "source": [
        "# Water Quality Prediction"
      ]
    },
    {
      "attachments": {},
      "cell_type": "markdown",
      "metadata": {
        "id": "fr8ArzQrdwCe"
      },
      "source": []
    },
    {
      "cell_type": "markdown",
      "metadata": {
        "id": "LtdHC3PViNTd"
      },
      "source": [
        "## Data Gathering"
      ]
    },
    {
      "cell_type": "code",
      "execution_count": 93,
      "metadata": {
        "id": "7x31ilqudwCg"
      },
      "outputs": [],
      "source": [
        "import pandas as pd\n",
        "import numpy as np\n",
        "import matplotlib.pyplot as plt\n",
        "import seaborn as sns\n",
        "import warnings\n",
        "warnings.filterwarnings(\"ignore\")"
      ]
    },
    {
      "cell_type": "code",
      "execution_count": 94,
      "metadata": {
        "colab": {
          "base_uri": "https://localhost:8080/",
          "height": 206
        },
        "id": "GrbEkheMdwCh",
        "outputId": "b04a14a5-7efc-4be9-93dd-9580ed03d8db"
      },
      "outputs": [
        {
          "data": {
            "text/html": [
              "<div>\n",
              "<style scoped>\n",
              "    .dataframe tbody tr th:only-of-type {\n",
              "        vertical-align: middle;\n",
              "    }\n",
              "\n",
              "    .dataframe tbody tr th {\n",
              "        vertical-align: top;\n",
              "    }\n",
              "\n",
              "    .dataframe thead th {\n",
              "        text-align: right;\n",
              "    }\n",
              "</style>\n",
              "<table border=\"1\" class=\"dataframe\">\n",
              "  <thead>\n",
              "    <tr style=\"text-align: right;\">\n",
              "      <th></th>\n",
              "      <th>ph</th>\n",
              "      <th>Hardness</th>\n",
              "      <th>Solids</th>\n",
              "      <th>Chloramines</th>\n",
              "      <th>Sulfate</th>\n",
              "      <th>Conductivity</th>\n",
              "      <th>Organic_carbon</th>\n",
              "      <th>Trihalomethanes</th>\n",
              "      <th>Turbidity</th>\n",
              "      <th>Potability</th>\n",
              "    </tr>\n",
              "  </thead>\n",
              "  <tbody>\n",
              "    <tr>\n",
              "      <th>0</th>\n",
              "      <td>7.080795</td>\n",
              "      <td>219.674262</td>\n",
              "      <td>22210.613083</td>\n",
              "      <td>5.875041</td>\n",
              "      <td>333.775777</td>\n",
              "      <td>398.517703</td>\n",
              "      <td>11.502316</td>\n",
              "      <td>112.412210</td>\n",
              "      <td>2.994259</td>\n",
              "      <td>0</td>\n",
              "    </tr>\n",
              "    <tr>\n",
              "      <th>1</th>\n",
              "      <td>6.783888</td>\n",
              "      <td>193.653581</td>\n",
              "      <td>13677.106441</td>\n",
              "      <td>5.171454</td>\n",
              "      <td>323.728663</td>\n",
              "      <td>477.854687</td>\n",
              "      <td>15.056064</td>\n",
              "      <td>66.396293</td>\n",
              "      <td>3.250022</td>\n",
              "      <td>0</td>\n",
              "    </tr>\n",
              "    <tr>\n",
              "      <th>2</th>\n",
              "      <td>6.010618</td>\n",
              "      <td>184.558582</td>\n",
              "      <td>15940.573271</td>\n",
              "      <td>8.165222</td>\n",
              "      <td>421.486089</td>\n",
              "      <td>314.529813</td>\n",
              "      <td>20.314617</td>\n",
              "      <td>83.707938</td>\n",
              "      <td>4.867287</td>\n",
              "      <td>1</td>\n",
              "    </tr>\n",
              "    <tr>\n",
              "      <th>3</th>\n",
              "      <td>8.097454</td>\n",
              "      <td>218.992436</td>\n",
              "      <td>18112.284447</td>\n",
              "      <td>6.196947</td>\n",
              "      <td>333.775777</td>\n",
              "      <td>376.569803</td>\n",
              "      <td>17.746264</td>\n",
              "      <td>59.909941</td>\n",
              "      <td>4.279082</td>\n",
              "      <td>1</td>\n",
              "    </tr>\n",
              "    <tr>\n",
              "      <th>4</th>\n",
              "      <td>8.072612</td>\n",
              "      <td>210.269780</td>\n",
              "      <td>16843.363927</td>\n",
              "      <td>8.793459</td>\n",
              "      <td>359.516169</td>\n",
              "      <td>559.167574</td>\n",
              "      <td>17.263576</td>\n",
              "      <td>68.738989</td>\n",
              "      <td>5.082206</td>\n",
              "      <td>0</td>\n",
              "    </tr>\n",
              "  </tbody>\n",
              "</table>\n",
              "</div>"
            ],
            "text/plain": [
              "         ph    Hardness        Solids  Chloramines     Sulfate  Conductivity   \n",
              "0  7.080795  219.674262  22210.613083     5.875041  333.775777    398.517703  \\\n",
              "1  6.783888  193.653581  13677.106441     5.171454  323.728663    477.854687   \n",
              "2  6.010618  184.558582  15940.573271     8.165222  421.486089    314.529813   \n",
              "3  8.097454  218.992436  18112.284447     6.196947  333.775777    376.569803   \n",
              "4  8.072612  210.269780  16843.363927     8.793459  359.516169    559.167574   \n",
              "\n",
              "   Organic_carbon  Trihalomethanes  Turbidity  Potability  \n",
              "0       11.502316       112.412210   2.994259           0  \n",
              "1       15.056064        66.396293   3.250022           0  \n",
              "2       20.314617        83.707938   4.867287           1  \n",
              "3       17.746264        59.909941   4.279082           1  \n",
              "4       17.263576        68.738989   5.082206           0  "
            ]
          },
          "execution_count": 94,
          "metadata": {},
          "output_type": "execute_result"
        }
      ],
      "source": [
        "df = pd.read_csv('water_potability.csv')\n",
        "df.head()"
      ]
    },
    {
      "cell_type": "markdown",
      "metadata": {
        "id": "LELZXbMLdwCj"
      },
      "source": [
        "# Exploratory Data Analysis"
      ]
    },
    {
      "cell_type": "code",
      "execution_count": 95,
      "metadata": {
        "colab": {
          "base_uri": "https://localhost:8080/"
        },
        "id": "NK1M1-ZadwCj",
        "outputId": "7a43346c-7650-4ac0-9838-d47df84cd67c"
      },
      "outputs": [
        {
          "data": {
            "text/plain": [
              "(2293, 10)"
            ]
          },
          "execution_count": 95,
          "metadata": {},
          "output_type": "execute_result"
        }
      ],
      "source": [
        "df.shape"
      ]
    },
    {
      "cell_type": "code",
      "execution_count": 96,
      "metadata": {
        "colab": {
          "base_uri": "https://localhost:8080/"
        },
        "id": "yY0i3-J9dwCk",
        "outputId": "f013ec5f-0eda-48f2-ad35-d3b721afc724"
      },
      "outputs": [
        {
          "data": {
            "text/plain": [
              "ph                 0\n",
              "Hardness           0\n",
              "Solids             0\n",
              "Chloramines        0\n",
              "Sulfate            0\n",
              "Conductivity       0\n",
              "Organic_carbon     0\n",
              "Trihalomethanes    0\n",
              "Turbidity          0\n",
              "Potability         0\n",
              "dtype: int64"
            ]
          },
          "execution_count": 96,
          "metadata": {},
          "output_type": "execute_result"
        }
      ],
      "source": [
        "df.isnull().sum()"
      ]
    },
    {
      "cell_type": "code",
      "execution_count": 97,
      "metadata": {
        "colab": {
          "base_uri": "https://localhost:8080/"
        },
        "id": "v-_n9hgNdwCl",
        "outputId": "aa251160-2c51-4fae-d8d4-0c4233734735"
      },
      "outputs": [
        {
          "name": "stdout",
          "output_type": "stream",
          "text": [
            "<class 'pandas.core.frame.DataFrame'>\n",
            "RangeIndex: 2293 entries, 0 to 2292\n",
            "Data columns (total 10 columns):\n",
            " #   Column           Non-Null Count  Dtype  \n",
            "---  ------           --------------  -----  \n",
            " 0   ph               2293 non-null   float64\n",
            " 1   Hardness         2293 non-null   float64\n",
            " 2   Solids           2293 non-null   float64\n",
            " 3   Chloramines      2293 non-null   float64\n",
            " 4   Sulfate          2293 non-null   float64\n",
            " 5   Conductivity     2293 non-null   float64\n",
            " 6   Organic_carbon   2293 non-null   float64\n",
            " 7   Trihalomethanes  2293 non-null   float64\n",
            " 8   Turbidity        2293 non-null   float64\n",
            " 9   Potability       2293 non-null   int64  \n",
            "dtypes: float64(9), int64(1)\n",
            "memory usage: 179.3 KB\n"
          ]
        }
      ],
      "source": [
        "df.info()"
      ]
    },
    {
      "cell_type": "code",
      "execution_count": 98,
      "metadata": {
        "colab": {
          "base_uri": "https://localhost:8080/",
          "height": 300
        },
        "id": "q2kKlm7ldwCl",
        "outputId": "6ffde839-2ca6-4379-c7ff-c4e62ca99551"
      },
      "outputs": [
        {
          "data": {
            "text/html": [
              "<div>\n",
              "<style scoped>\n",
              "    .dataframe tbody tr th:only-of-type {\n",
              "        vertical-align: middle;\n",
              "    }\n",
              "\n",
              "    .dataframe tbody tr th {\n",
              "        vertical-align: top;\n",
              "    }\n",
              "\n",
              "    .dataframe thead th {\n",
              "        text-align: right;\n",
              "    }\n",
              "</style>\n",
              "<table border=\"1\" class=\"dataframe\">\n",
              "  <thead>\n",
              "    <tr style=\"text-align: right;\">\n",
              "      <th></th>\n",
              "      <th>ph</th>\n",
              "      <th>Hardness</th>\n",
              "      <th>Solids</th>\n",
              "      <th>Chloramines</th>\n",
              "      <th>Sulfate</th>\n",
              "      <th>Conductivity</th>\n",
              "      <th>Organic_carbon</th>\n",
              "      <th>Trihalomethanes</th>\n",
              "      <th>Turbidity</th>\n",
              "      <th>Potability</th>\n",
              "    </tr>\n",
              "  </thead>\n",
              "  <tbody>\n",
              "    <tr>\n",
              "      <th>count</th>\n",
              "      <td>2293.000000</td>\n",
              "      <td>2293.000000</td>\n",
              "      <td>2293.000000</td>\n",
              "      <td>2293.000000</td>\n",
              "      <td>2293.000000</td>\n",
              "      <td>2293.000000</td>\n",
              "      <td>2293.000000</td>\n",
              "      <td>2293.000000</td>\n",
              "      <td>2293.000000</td>\n",
              "      <td>2293.000000</td>\n",
              "    </tr>\n",
              "    <tr>\n",
              "      <th>mean</th>\n",
              "      <td>7.082265</td>\n",
              "      <td>196.390335</td>\n",
              "      <td>22074.335334</td>\n",
              "      <td>7.132987</td>\n",
              "      <td>333.393347</td>\n",
              "      <td>425.455702</td>\n",
              "      <td>14.229174</td>\n",
              "      <td>66.499518</td>\n",
              "      <td>3.967153</td>\n",
              "      <td>0.390318</td>\n",
              "    </tr>\n",
              "    <tr>\n",
              "      <th>std</th>\n",
              "      <td>1.486029</td>\n",
              "      <td>32.460633</td>\n",
              "      <td>8668.693908</td>\n",
              "      <td>1.573879</td>\n",
              "      <td>36.116271</td>\n",
              "      <td>80.266652</td>\n",
              "      <td>3.341429</td>\n",
              "      <td>16.067742</td>\n",
              "      <td>0.788480</td>\n",
              "      <td>0.487928</td>\n",
              "    </tr>\n",
              "    <tr>\n",
              "      <th>min</th>\n",
              "      <td>0.000000</td>\n",
              "      <td>47.432000</td>\n",
              "      <td>320.942611</td>\n",
              "      <td>0.530351</td>\n",
              "      <td>180.206746</td>\n",
              "      <td>201.619737</td>\n",
              "      <td>2.200000</td>\n",
              "      <td>0.738000</td>\n",
              "      <td>1.450000</td>\n",
              "      <td>0.000000</td>\n",
              "    </tr>\n",
              "    <tr>\n",
              "      <th>25%</th>\n",
              "      <td>6.262799</td>\n",
              "      <td>176.753500</td>\n",
              "      <td>15825.182571</td>\n",
              "      <td>6.140033</td>\n",
              "      <td>316.552791</td>\n",
              "      <td>363.974060</td>\n",
              "      <td>12.015868</td>\n",
              "      <td>56.329076</td>\n",
              "      <td>3.440753</td>\n",
              "      <td>0.000000</td>\n",
              "    </tr>\n",
              "    <tr>\n",
              "      <th>50%</th>\n",
              "      <td>7.080795</td>\n",
              "      <td>196.833001</td>\n",
              "      <td>21153.322827</td>\n",
              "      <td>7.135063</td>\n",
              "      <td>333.775777</td>\n",
              "      <td>420.828362</td>\n",
              "      <td>14.151538</td>\n",
              "      <td>66.396293</td>\n",
              "      <td>3.947138</td>\n",
              "      <td>0.000000</td>\n",
              "    </tr>\n",
              "    <tr>\n",
              "      <th>75%</th>\n",
              "      <td>7.873272</td>\n",
              "      <td>216.441172</td>\n",
              "      <td>27345.174288</td>\n",
              "      <td>8.104498</td>\n",
              "      <td>349.985243</td>\n",
              "      <td>480.715208</td>\n",
              "      <td>16.450990</td>\n",
              "      <td>77.182622</td>\n",
              "      <td>4.503661</td>\n",
              "      <td>1.000000</td>\n",
              "    </tr>\n",
              "    <tr>\n",
              "      <th>max</th>\n",
              "      <td>14.000000</td>\n",
              "      <td>317.338124</td>\n",
              "      <td>56351.396304</td>\n",
              "      <td>13.043806</td>\n",
              "      <td>481.030642</td>\n",
              "      <td>753.342620</td>\n",
              "      <td>28.300000</td>\n",
              "      <td>124.000000</td>\n",
              "      <td>6.739000</td>\n",
              "      <td>1.000000</td>\n",
              "    </tr>\n",
              "  </tbody>\n",
              "</table>\n",
              "</div>"
            ],
            "text/plain": [
              "                ph     Hardness        Solids  Chloramines      Sulfate   \n",
              "count  2293.000000  2293.000000   2293.000000  2293.000000  2293.000000  \\\n",
              "mean      7.082265   196.390335  22074.335334     7.132987   333.393347   \n",
              "std       1.486029    32.460633   8668.693908     1.573879    36.116271   \n",
              "min       0.000000    47.432000    320.942611     0.530351   180.206746   \n",
              "25%       6.262799   176.753500  15825.182571     6.140033   316.552791   \n",
              "50%       7.080795   196.833001  21153.322827     7.135063   333.775777   \n",
              "75%       7.873272   216.441172  27345.174288     8.104498   349.985243   \n",
              "max      14.000000   317.338124  56351.396304    13.043806   481.030642   \n",
              "\n",
              "       Conductivity  Organic_carbon  Trihalomethanes    Turbidity   Potability  \n",
              "count   2293.000000     2293.000000      2293.000000  2293.000000  2293.000000  \n",
              "mean     425.455702       14.229174        66.499518     3.967153     0.390318  \n",
              "std       80.266652        3.341429        16.067742     0.788480     0.487928  \n",
              "min      201.619737        2.200000         0.738000     1.450000     0.000000  \n",
              "25%      363.974060       12.015868        56.329076     3.440753     0.000000  \n",
              "50%      420.828362       14.151538        66.396293     3.947138     0.000000  \n",
              "75%      480.715208       16.450990        77.182622     4.503661     1.000000  \n",
              "max      753.342620       28.300000       124.000000     6.739000     1.000000  "
            ]
          },
          "execution_count": 98,
          "metadata": {},
          "output_type": "execute_result"
        }
      ],
      "source": [
        "df.describe()"
      ]
    },
    {
      "cell_type": "code",
      "execution_count": 99,
      "metadata": {
        "colab": {
          "base_uri": "https://localhost:8080/"
        },
        "id": "cgWJz0YodwCn",
        "outputId": "ea530c2e-7513-40ad-e442-d3b6a93cc61e"
      },
      "outputs": [
        {
          "data": {
            "text/plain": [
              "ph                 0\n",
              "Hardness           0\n",
              "Solids             0\n",
              "Chloramines        0\n",
              "Sulfate            0\n",
              "Conductivity       0\n",
              "Organic_carbon     0\n",
              "Trihalomethanes    0\n",
              "Turbidity          0\n",
              "Potability         0\n",
              "dtype: int64"
            ]
          },
          "execution_count": 99,
          "metadata": {},
          "output_type": "execute_result"
        }
      ],
      "source": [
        "df.fillna(df.mean(), inplace=True)\n",
        "df.isnull().sum()\n"
      ]
    },
    {
      "cell_type": "code",
      "execution_count": 100,
      "metadata": {
        "colab": {
          "base_uri": "https://localhost:8080/",
          "height": 206
        },
        "id": "VePJ3ka7vvav",
        "outputId": "8493e065-ec55-46f9-d7fd-998b5f0d4406"
      },
      "outputs": [
        {
          "data": {
            "text/html": [
              "<div>\n",
              "<style scoped>\n",
              "    .dataframe tbody tr th:only-of-type {\n",
              "        vertical-align: middle;\n",
              "    }\n",
              "\n",
              "    .dataframe tbody tr th {\n",
              "        vertical-align: top;\n",
              "    }\n",
              "\n",
              "    .dataframe thead th {\n",
              "        text-align: right;\n",
              "    }\n",
              "</style>\n",
              "<table border=\"1\" class=\"dataframe\">\n",
              "  <thead>\n",
              "    <tr style=\"text-align: right;\">\n",
              "      <th></th>\n",
              "      <th>ph</th>\n",
              "      <th>Hardness</th>\n",
              "      <th>Solids</th>\n",
              "      <th>Chloramines</th>\n",
              "      <th>Sulfate</th>\n",
              "      <th>Conductivity</th>\n",
              "      <th>Organic_carbon</th>\n",
              "      <th>Trihalomethanes</th>\n",
              "      <th>Turbidity</th>\n",
              "      <th>Potability</th>\n",
              "    </tr>\n",
              "  </thead>\n",
              "  <tbody>\n",
              "    <tr>\n",
              "      <th>0</th>\n",
              "      <td>7.080795</td>\n",
              "      <td>219.674262</td>\n",
              "      <td>22210.613083</td>\n",
              "      <td>5.875041</td>\n",
              "      <td>333.775777</td>\n",
              "      <td>398.517703</td>\n",
              "      <td>11.502316</td>\n",
              "      <td>112.412210</td>\n",
              "      <td>2.994259</td>\n",
              "      <td>0</td>\n",
              "    </tr>\n",
              "    <tr>\n",
              "      <th>1</th>\n",
              "      <td>6.783888</td>\n",
              "      <td>193.653581</td>\n",
              "      <td>13677.106441</td>\n",
              "      <td>5.171454</td>\n",
              "      <td>323.728663</td>\n",
              "      <td>477.854687</td>\n",
              "      <td>15.056064</td>\n",
              "      <td>66.396293</td>\n",
              "      <td>3.250022</td>\n",
              "      <td>0</td>\n",
              "    </tr>\n",
              "    <tr>\n",
              "      <th>2</th>\n",
              "      <td>6.010618</td>\n",
              "      <td>184.558582</td>\n",
              "      <td>15940.573271</td>\n",
              "      <td>8.165222</td>\n",
              "      <td>421.486089</td>\n",
              "      <td>314.529813</td>\n",
              "      <td>20.314617</td>\n",
              "      <td>83.707938</td>\n",
              "      <td>4.867287</td>\n",
              "      <td>1</td>\n",
              "    </tr>\n",
              "    <tr>\n",
              "      <th>3</th>\n",
              "      <td>8.097454</td>\n",
              "      <td>218.992436</td>\n",
              "      <td>18112.284447</td>\n",
              "      <td>6.196947</td>\n",
              "      <td>333.775777</td>\n",
              "      <td>376.569803</td>\n",
              "      <td>17.746264</td>\n",
              "      <td>59.909941</td>\n",
              "      <td>4.279082</td>\n",
              "      <td>1</td>\n",
              "    </tr>\n",
              "    <tr>\n",
              "      <th>4</th>\n",
              "      <td>8.072612</td>\n",
              "      <td>210.269780</td>\n",
              "      <td>16843.363927</td>\n",
              "      <td>8.793459</td>\n",
              "      <td>359.516169</td>\n",
              "      <td>559.167574</td>\n",
              "      <td>17.263576</td>\n",
              "      <td>68.738989</td>\n",
              "      <td>5.082206</td>\n",
              "      <td>0</td>\n",
              "    </tr>\n",
              "  </tbody>\n",
              "</table>\n",
              "</div>"
            ],
            "text/plain": [
              "         ph    Hardness        Solids  Chloramines     Sulfate  Conductivity   \n",
              "0  7.080795  219.674262  22210.613083     5.875041  333.775777    398.517703  \\\n",
              "1  6.783888  193.653581  13677.106441     5.171454  323.728663    477.854687   \n",
              "2  6.010618  184.558582  15940.573271     8.165222  421.486089    314.529813   \n",
              "3  8.097454  218.992436  18112.284447     6.196947  333.775777    376.569803   \n",
              "4  8.072612  210.269780  16843.363927     8.793459  359.516169    559.167574   \n",
              "\n",
              "   Organic_carbon  Trihalomethanes  Turbidity  Potability  \n",
              "0       11.502316       112.412210   2.994259           0  \n",
              "1       15.056064        66.396293   3.250022           0  \n",
              "2       20.314617        83.707938   4.867287           1  \n",
              "3       17.746264        59.909941   4.279082           1  \n",
              "4       17.263576        68.738989   5.082206           0  "
            ]
          },
          "execution_count": 100,
          "metadata": {},
          "output_type": "execute_result"
        }
      ],
      "source": [
        "df.head()"
      ]
    },
    {
      "cell_type": "code",
      "execution_count": 101,
      "metadata": {
        "colab": {
          "base_uri": "https://localhost:8080/"
        },
        "id": "qHtgCw8JdwCn",
        "outputId": "e0f7a7db-1be6-4514-c22c-8b056db20d3e"
      },
      "outputs": [
        {
          "data": {
            "text/plain": [
              "Potability\n",
              "0    1398\n",
              "1     895\n",
              "Name: count, dtype: int64"
            ]
          },
          "execution_count": 101,
          "metadata": {},
          "output_type": "execute_result"
        }
      ],
      "source": [
        "df.Potability.value_counts()"
      ]
    },
    {
      "cell_type": "code",
      "execution_count": 102,
      "metadata": {
        "colab": {
          "base_uri": "https://localhost:8080/",
          "height": 480
        },
        "id": "Q3fXV0pxdwCo",
        "outputId": "4c5d62e2-2654-4053-9650-a843ddfa4762"
      },
      "outputs": [
        {
          "data": {
            "image/png": "[encoded data removed]",
            "text/plain": [
              "<Figure size 640x480 with 1 Axes>"
            ]
          },
          "metadata": {},
          "output_type": "display_data"
        }
      ],
      "source": [
        "import seaborn as sns\n",
        "import matplotlib.pyplot as plt\n",
        "\n",
        "sns.set(style=\"darkgrid\")\n",
        "\n",
        "# Assuming your DataFrame is named 'df' and the column of interest is 'Potability'\n",
        "sns.countplot(data=df, x='Potability')\n",
        "plt.xlabel('Potability')\n",
        "plt.ylabel('Count')\n",
        "plt.title('Count of Potability')\n",
        "plt.xticks(ticks=[0, 1], labels=['0', '1'])  # Set custom x-axis labels\n",
        "plt.show()\n"
      ]
    },
    {
      "cell_type": "code",
      "execution_count": 103,
      "metadata": {
        "colab": {
          "base_uri": "https://localhost:8080/",
          "height": 1000
        },
        "id": "zGiZZjOmdwCp",
        "outputId": "d75840e1-6000-4ac8-cf67-94451691bfd0"
      },
      "outputs": [
        {
          "data": {
            "image/png": "[encoded data removed]",
            "text/plain": [
              "<Figure size 1400x1400 with 12 Axes>"
            ]
          },
          "metadata": {},
          "output_type": "display_data"
        }
      ],
      "source": [
        "df.hist(figsize=(14,14))\n",
        "plt.show()"
      ]
    },
    {
      "cell_type": "code",
      "execution_count": 104,
      "metadata": {
        "id": "-PPt2sfhdwCq"
      },
      "outputs": [],
      "source": [
        "X = df.drop('Potability',axis=1)\n",
        "Y= df['Potability']"
      ]
    },
    {
      "cell_type": "code",
      "execution_count": 105,
      "metadata": {},
      "outputs": [
        {
          "data": {
            "text/html": [
              "<div>\n",
              "<style scoped>\n",
              "    .dataframe tbody tr th:only-of-type {\n",
              "        vertical-align: middle;\n",
              "    }\n",
              "\n",
              "    .dataframe tbody tr th {\n",
              "        vertical-align: top;\n",
              "    }\n",
              "\n",
              "    .dataframe thead th {\n",
              "        text-align: right;\n",
              "    }\n",
              "</style>\n",
              "<table border=\"1\" class=\"dataframe\">\n",
              "  <thead>\n",
              "    <tr style=\"text-align: right;\">\n",
              "      <th></th>\n",
              "      <th>ph</th>\n",
              "      <th>Hardness</th>\n",
              "      <th>Solids</th>\n",
              "      <th>Chloramines</th>\n",
              "      <th>Sulfate</th>\n",
              "      <th>Conductivity</th>\n",
              "      <th>Organic_carbon</th>\n",
              "      <th>Trihalomethanes</th>\n",
              "      <th>Turbidity</th>\n",
              "      <th>Potability</th>\n",
              "      <th>result</th>\n",
              "    </tr>\n",
              "  </thead>\n",
              "  <tbody>\n",
              "    <tr>\n",
              "      <th>0</th>\n",
              "      <td>7.080795</td>\n",
              "      <td>219.674262</td>\n",
              "      <td>22210.613083</td>\n",
              "      <td>5.875041</td>\n",
              "      <td>333.775777</td>\n",
              "      <td>398.517703</td>\n",
              "      <td>11.502316</td>\n",
              "      <td>112.412210</td>\n",
              "      <td>2.994259</td>\n",
              "      <td>0</td>\n",
              "      <td>portable</td>\n",
              "    </tr>\n",
              "    <tr>\n",
              "      <th>1</th>\n",
              "      <td>6.783888</td>\n",
              "      <td>193.653581</td>\n",
              "      <td>13677.106441</td>\n",
              "      <td>5.171454</td>\n",
              "      <td>323.728663</td>\n",
              "      <td>477.854687</td>\n",
              "      <td>15.056064</td>\n",
              "      <td>66.396293</td>\n",
              "      <td>3.250022</td>\n",
              "      <td>0</td>\n",
              "      <td>portable</td>\n",
              "    </tr>\n",
              "    <tr>\n",
              "      <th>2</th>\n",
              "      <td>6.010618</td>\n",
              "      <td>184.558582</td>\n",
              "      <td>15940.573271</td>\n",
              "      <td>8.165222</td>\n",
              "      <td>421.486089</td>\n",
              "      <td>314.529813</td>\n",
              "      <td>20.314617</td>\n",
              "      <td>83.707938</td>\n",
              "      <td>4.867287</td>\n",
              "      <td>1</td>\n",
              "      <td>not portable</td>\n",
              "    </tr>\n",
              "    <tr>\n",
              "      <th>3</th>\n",
              "      <td>8.097454</td>\n",
              "      <td>218.992436</td>\n",
              "      <td>18112.284447</td>\n",
              "      <td>6.196947</td>\n",
              "      <td>333.775777</td>\n",
              "      <td>376.569803</td>\n",
              "      <td>17.746264</td>\n",
              "      <td>59.909941</td>\n",
              "      <td>4.279082</td>\n",
              "      <td>1</td>\n",
              "      <td>not portable</td>\n",
              "    </tr>\n",
              "    <tr>\n",
              "      <th>4</th>\n",
              "      <td>8.072612</td>\n",
              "      <td>210.269780</td>\n",
              "      <td>16843.363927</td>\n",
              "      <td>8.793459</td>\n",
              "      <td>359.516169</td>\n",
              "      <td>559.167574</td>\n",
              "      <td>17.263576</td>\n",
              "      <td>68.738989</td>\n",
              "      <td>5.082206</td>\n",
              "      <td>0</td>\n",
              "      <td>portable</td>\n",
              "    </tr>\n",
              "  </tbody>\n",
              "</table>\n",
              "</div>"
            ],
            "text/plain": [
              "         ph    Hardness        Solids  Chloramines     Sulfate  Conductivity   \n",
              "0  7.080795  219.674262  22210.613083     5.875041  333.775777    398.517703  \\\n",
              "1  6.783888  193.653581  13677.106441     5.171454  323.728663    477.854687   \n",
              "2  6.010618  184.558582  15940.573271     8.165222  421.486089    314.529813   \n",
              "3  8.097454  218.992436  18112.284447     6.196947  333.775777    376.569803   \n",
              "4  8.072612  210.269780  16843.363927     8.793459  359.516169    559.167574   \n",
              "\n",
              "   Organic_carbon  Trihalomethanes  Turbidity  Potability        result  \n",
              "0       11.502316       112.412210   2.994259           0      portable  \n",
              "1       15.056064        66.396293   3.250022           0      portable  \n",
              "2       20.314617        83.707938   4.867287           1  not portable  \n",
              "3       17.746264        59.909941   4.279082           1  not portable  \n",
              "4       17.263576        68.738989   5.082206           0      portable  "
            ]
          },
          "execution_count": 105,
          "metadata": {},
          "output_type": "execute_result"
        }
      ],
      "source": [
        "def result(x):\n",
        "    if x == 0:\n",
        "        return \"portable\"\n",
        "    elif x == 1:\n",
        "        return \"not portable\"\n",
        "\n",
        "df['result'] = df['Potability'] .apply(result)\n",
        "df.head()"
      ]
    },
    {
      "cell_type": "code",
      "execution_count": 106,
      "metadata": {},
      "outputs": [
        {
          "data": {
            "text/plain": [
              "result\n",
              "portable        1398\n",
              "not portable     895\n",
              "Name: count, dtype: int64"
            ]
          },
          "execution_count": 106,
          "metadata": {},
          "output_type": "execute_result"
        }
      ],
      "source": [
        "df['result'].value_counts()"
      ]
    },
    {
      "cell_type": "code",
      "execution_count": 107,
      "metadata": {},
      "outputs": [
        {
          "data": {
            "text/html": [
              "<div>\n",
              "<style scoped>\n",
              "    .dataframe tbody tr th:only-of-type {\n",
              "        vertical-align: middle;\n",
              "    }\n",
              "\n",
              "    .dataframe tbody tr th {\n",
              "        vertical-align: top;\n",
              "    }\n",
              "\n",
              "    .dataframe thead th {\n",
              "        text-align: right;\n",
              "    }\n",
              "</style>\n",
              "<table border=\"1\" class=\"dataframe\">\n",
              "  <thead>\n",
              "    <tr style=\"text-align: right;\">\n",
              "      <th></th>\n",
              "      <th>ph</th>\n",
              "      <th>Hardness</th>\n",
              "      <th>Solids</th>\n",
              "      <th>Chloramines</th>\n",
              "      <th>Sulfate</th>\n",
              "      <th>Conductivity</th>\n",
              "      <th>Organic_carbon</th>\n",
              "      <th>Trihalomethanes</th>\n",
              "      <th>Turbidity</th>\n",
              "    </tr>\n",
              "  </thead>\n",
              "  <tbody>\n",
              "    <tr>\n",
              "      <th>0</th>\n",
              "      <td>7.080795</td>\n",
              "      <td>219.674262</td>\n",
              "      <td>22210.613083</td>\n",
              "      <td>5.875041</td>\n",
              "      <td>333.775777</td>\n",
              "      <td>398.517703</td>\n",
              "      <td>11.502316</td>\n",
              "      <td>112.412210</td>\n",
              "      <td>2.994259</td>\n",
              "    </tr>\n",
              "    <tr>\n",
              "      <th>1</th>\n",
              "      <td>6.783888</td>\n",
              "      <td>193.653581</td>\n",
              "      <td>13677.106441</td>\n",
              "      <td>5.171454</td>\n",
              "      <td>323.728663</td>\n",
              "      <td>477.854687</td>\n",
              "      <td>15.056064</td>\n",
              "      <td>66.396293</td>\n",
              "      <td>3.250022</td>\n",
              "    </tr>\n",
              "    <tr>\n",
              "      <th>2</th>\n",
              "      <td>6.010618</td>\n",
              "      <td>184.558582</td>\n",
              "      <td>15940.573271</td>\n",
              "      <td>8.165222</td>\n",
              "      <td>421.486089</td>\n",
              "      <td>314.529813</td>\n",
              "      <td>20.314617</td>\n",
              "      <td>83.707938</td>\n",
              "      <td>4.867287</td>\n",
              "    </tr>\n",
              "    <tr>\n",
              "      <th>3</th>\n",
              "      <td>8.097454</td>\n",
              "      <td>218.992436</td>\n",
              "      <td>18112.284447</td>\n",
              "      <td>6.196947</td>\n",
              "      <td>333.775777</td>\n",
              "      <td>376.569803</td>\n",
              "      <td>17.746264</td>\n",
              "      <td>59.909941</td>\n",
              "      <td>4.279082</td>\n",
              "    </tr>\n",
              "    <tr>\n",
              "      <th>4</th>\n",
              "      <td>8.072612</td>\n",
              "      <td>210.269780</td>\n",
              "      <td>16843.363927</td>\n",
              "      <td>8.793459</td>\n",
              "      <td>359.516169</td>\n",
              "      <td>559.167574</td>\n",
              "      <td>17.263576</td>\n",
              "      <td>68.738989</td>\n",
              "      <td>5.082206</td>\n",
              "    </tr>\n",
              "  </tbody>\n",
              "</table>\n",
              "</div>"
            ],
            "text/plain": [
              "         ph    Hardness        Solids  Chloramines     Sulfate  Conductivity   \n",
              "0  7.080795  219.674262  22210.613083     5.875041  333.775777    398.517703  \\\n",
              "1  6.783888  193.653581  13677.106441     5.171454  323.728663    477.854687   \n",
              "2  6.010618  184.558582  15940.573271     8.165222  421.486089    314.529813   \n",
              "3  8.097454  218.992436  18112.284447     6.196947  333.775777    376.569803   \n",
              "4  8.072612  210.269780  16843.363927     8.793459  359.516169    559.167574   \n",
              "\n",
              "   Organic_carbon  Trihalomethanes  Turbidity  \n",
              "0       11.502316       112.412210   2.994259  \n",
              "1       15.056064        66.396293   3.250022  \n",
              "2       20.314617        83.707938   4.867287  \n",
              "3       17.746264        59.909941   4.279082  \n",
              "4       17.263576        68.738989   5.082206  "
            ]
          },
          "execution_count": 107,
          "metadata": {},
          "output_type": "execute_result"
        }
      ],
      "source": [
        "X=df[['ph','Hardness','Solids','Chloramines','Sulfate','Conductivity','Organic_carbon','Trihalomethanes','Turbidity']]\n",
        "Y=df['result']\n",
        "X.head()"
      ]
    },
    {
      "cell_type": "code",
      "execution_count": 108,
      "metadata": {
        "id": "S8E7hzrpdwCq"
      },
      "outputs": [],
      "source": [
        "from sklearn.model_selection import train_test_split\n",
        "X_train, X_test, Y_train, Y_test = train_test_split(X,Y, test_size= 0.2, random_state=101,shuffle=True)"
      ]
    },
    {
      "cell_type": "markdown",
      "metadata": {
        "id": "8PUrBzz8iBn7"
      },
      "source": [
        "## Train  and check accuracy"
      ]
    },
    {
      "cell_type": "code",
      "execution_count": 156,
      "metadata": {
        "colab": {
          "base_uri": "https://localhost:8080/",
          "height": 74
        },
        "id": "MV1m2IozdwCr",
        "outputId": "fc300523-746d-47d0-86f1-4b60ed756548"
      },
      "outputs": [],
      "source": [
        "from sklearn.model_selection import train_test_split\n",
        "from sklearn.linear_model import LogisticRegression\n",
        "from sklearn.metrics import accuracy_score, confusion_matrix, classification_report\n",
        "\n",
        "# Split the data into training and test sets\n",
        "X_train, X_test, Y_train, Y_test = train_test_split(X, Y, test_size=.2, random_state=68, shuffle=True)\n",
        "\n",
        "# Create a LogisticRegression object\n",
        "lr = LogisticRegression()\n",
        "\n",
        "# Fit the model on the training data\n",
        "classifier = lr.fit(X_train, Y_train)"
      ]
    },
    {
      "cell_type": "code",
      "execution_count": 157,
      "metadata": {
        "colab": {
          "base_uri": "https://localhost:8080/"
        },
        "id": "xTG-SOVBfQ9-",
        "outputId": "3f16451b-8a0d-4d1a-b07d-9a765a9da3ee"
      },
      "outputs": [],
      "source": [
        "predictions = lr.predict(X_test)\n",
        "accuracy = accuracy_score(Y_test, predictions)\n",
        "confusion_mat = confusion_matrix(Y_test, predictions)\n",
        "report = classification_report(Y_test, predictions)\n",
        "\n"
      ]
    },
    {
      "cell_type": "code",
      "execution_count": 158,
      "metadata": {},
      "outputs": [
        {
          "name": "stdout",
          "output_type": "stream",
          "text": [
            "Accuracy Score = 62.745098039215684\n",
            "Confusion Matrix:\n",
            "[[  3 170]\n",
            " [  1 285]]\n",
            "Classification Report:\n",
            "              precision    recall  f1-score   support\n",
            "\n",
            "not portable       0.75      0.02      0.03       173\n",
            "    portable       0.63      1.00      0.77       286\n",
            "\n",
            "    accuracy                           0.63       459\n",
            "   macro avg       0.69      0.51      0.40       459\n",
            "weighted avg       0.67      0.63      0.49       459\n",
            "\n"
          ]
        }
      ],
      "source": [
        "print(\"Accuracy Score =\", accuracy * 100)\n",
        "print(\"Confusion Matrix:\")\n",
        "print(confusion_mat)\n",
        "print(\"Classification Report:\")\n",
        "print(report)"
      ]
    },
    {
      "cell_type": "code",
      "execution_count": 159,
      "metadata": {
        "colab": {
          "base_uri": "https://localhost:8080/"
        },
        "id": "9pe1j8hifS6n",
        "outputId": "d517c83f-708e-41a6-ea84-505e0b779e2a"
      },
      "outputs": [
        {
          "data": {
            "text/plain": [
              "array(['portable'], dtype=object)"
            ]
          },
          "execution_count": 159,
          "metadata": {},
          "output_type": "execute_result"
        }
      ],
      "source": [
        "classifier.predict([[6.010618,\t184.558582,\t15940.573271,\t8.165222,\t421.486089,\t314.529813,\t20.314617,\t83.707938,\t4.867287]])\n",
        "#   classifier.predict([[8.099124,\t224.236259,\t19909.54173,\t9.275884,\t0.000000,\t418.606213,\t16.868637,\t66.420093,\t3.055934]])\n",
        "\n",
        "  "
      ]
    },
    {
      "cell_type": "code",
      "execution_count": 113,
      "metadata": {},
      "outputs": [],
      "source": [
        "# pickling the model\n",
        "import pickle# module is imported\n",
        "pickle_out = open(\"classifier.pkl\", \"wb\")#\"classifier.pkl\" is opened in write-binary mode (\"wb\")\n",
        "pickle.dump(classifier, pickle_out)# serialize the classifier object and write it to the file\n",
        "pickle_out.close()"
      ]
    },
    {
      "cell_type": "markdown",
      "metadata": {
        "id": "iqqXDkovgj_4"
      },
      "source": [
        "# Thank You !!!!!"
      ]
    },
    {
      "cell_type": "code",
      "execution_count": null,
      "metadata": {
        "id": "1LX7PEOcslGX"
      },
      "outputs": [],
      "source": []
    }
  ],
  "metadata": {
    "accelerator": "GPU",
    "colab": {
      "provenance": []
    },
    "kernelspec": {
      "display_name": "Python 3",
      "language": "python",
      "name": "python3"
    },
    "language_info": {
      "codemirror_mode": {
        "name": "ipython",
        "version": 3
      },
      "file_extension": ".py",
      "mimetype": "text/x-python",
      "name": "python",
      "nbconvert_exporter": "python",
      "pygments_lexer": "ipython3",
      "version": "3.10.4"
    }
  },
  "nbformat": 4,
  "nbformat_minor": 0
}
